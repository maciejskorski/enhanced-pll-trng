{
  "cells": [
    {
      "cell_type": "markdown",
      "metadata": {
        "id": "view-in-github",
        "colab_type": "text"
      },
      "source": [
        "<a href=\"https://colab.research.google.com/github/maciejskorski/new_pll_trng/blob/main/TRNG_Dependency_Analysis.ipynb\" target=\"_parent\"><img src=\"https://colab.research.google.com/assets/colab-badge.svg\" alt=\"Open In Colab\"/></a>"
      ]
    },
    {
      "cell_type": "markdown",
      "metadata": {
        "id": "XTbLv6gDx0UK"
      },
      "source": [
        "# Data\n",
        "\n"
      ]
    },
    {
      "cell_type": "code",
      "source": [
        "# update Python software - and restart the kernel when necessary\n",
        "!pip install --upgrade statsmodels --quiet\n",
        "!pip install mlflow --quiet\n",
        "!pip install pyngrok --quiet"
      ],
      "metadata": {
        "id": "lcZs3rQLUpT7",
        "colab": {
          "base_uri": "https://localhost:8080/"
        },
        "outputId": "4d3e8b7b-5c3d-49da-b114-189d8dfe7af6"
      },
      "execution_count": 8,
      "outputs": [
        {
          "output_type": "stream",
          "name": "stdout",
          "text": [
            "\u001b[?25l\r\u001b[K     |▍                               | 10 kB 19.1 MB/s eta 0:00:01\r\u001b[K     |▉                               | 20 kB 15.6 MB/s eta 0:00:01\r\u001b[K     |█▎                              | 30 kB 20.0 MB/s eta 0:00:01\r\u001b[K     |█▊                              | 40 kB 7.1 MB/s eta 0:00:01\r\u001b[K     |██▏                             | 51 kB 5.9 MB/s eta 0:00:01\r\u001b[K     |██▋                             | 61 kB 6.9 MB/s eta 0:00:01\r\u001b[K     |███                             | 71 kB 7.7 MB/s eta 0:00:01\r\u001b[K     |███▌                            | 81 kB 8.6 MB/s eta 0:00:01\r\u001b[K     |████                            | 92 kB 7.5 MB/s eta 0:00:01\r\u001b[K     |████▍                           | 102 kB 7.8 MB/s eta 0:00:01\r\u001b[K     |████▉                           | 112 kB 7.8 MB/s eta 0:00:01\r\u001b[K     |█████▎                          | 122 kB 7.8 MB/s eta 0:00:01\r\u001b[K     |█████▊                          | 133 kB 7.8 MB/s eta 0:00:01\r\u001b[K     |██████▏                         | 143 kB 7.8 MB/s eta 0:00:01\r\u001b[K     |██████▋                         | 153 kB 7.8 MB/s eta 0:00:01\r\u001b[K     |███████                         | 163 kB 7.8 MB/s eta 0:00:01\r\u001b[K     |███████▌                        | 174 kB 7.8 MB/s eta 0:00:01\r\u001b[K     |████████                        | 184 kB 7.8 MB/s eta 0:00:01\r\u001b[K     |████████▍                       | 194 kB 7.8 MB/s eta 0:00:01\r\u001b[K     |████████▉                       | 204 kB 7.8 MB/s eta 0:00:01\r\u001b[K     |█████████▎                      | 215 kB 7.8 MB/s eta 0:00:01\r\u001b[K     |█████████▊                      | 225 kB 7.8 MB/s eta 0:00:01\r\u001b[K     |██████████▏                     | 235 kB 7.8 MB/s eta 0:00:01\r\u001b[K     |██████████▌                     | 245 kB 7.8 MB/s eta 0:00:01\r\u001b[K     |███████████                     | 256 kB 7.8 MB/s eta 0:00:01\r\u001b[K     |███████████▍                    | 266 kB 7.8 MB/s eta 0:00:01\r\u001b[K     |███████████▉                    | 276 kB 7.8 MB/s eta 0:00:01\r\u001b[K     |████████████▎                   | 286 kB 7.8 MB/s eta 0:00:01\r\u001b[K     |████████████▊                   | 296 kB 7.8 MB/s eta 0:00:01\r\u001b[K     |█████████████▏                  | 307 kB 7.8 MB/s eta 0:00:01\r\u001b[K     |█████████████▋                  | 317 kB 7.8 MB/s eta 0:00:01\r\u001b[K     |██████████████                  | 327 kB 7.8 MB/s eta 0:00:01\r\u001b[K     |██████████████▌                 | 337 kB 7.8 MB/s eta 0:00:01\r\u001b[K     |███████████████                 | 348 kB 7.8 MB/s eta 0:00:01\r\u001b[K     |███████████████▍                | 358 kB 7.8 MB/s eta 0:00:01\r\u001b[K     |███████████████▉                | 368 kB 7.8 MB/s eta 0:00:01\r\u001b[K     |████████████████▎               | 378 kB 7.8 MB/s eta 0:00:01\r\u001b[K     |████████████████▊               | 389 kB 7.8 MB/s eta 0:00:01\r\u001b[K     |█████████████████▏              | 399 kB 7.8 MB/s eta 0:00:01\r\u001b[K     |█████████████████▋              | 409 kB 7.8 MB/s eta 0:00:01\r\u001b[K     |██████████████████              | 419 kB 7.8 MB/s eta 0:00:01\r\u001b[K     |██████████████████▌             | 430 kB 7.8 MB/s eta 0:00:01\r\u001b[K     |███████████████████             | 440 kB 7.8 MB/s eta 0:00:01\r\u001b[K     |███████████████████▍            | 450 kB 7.8 MB/s eta 0:00:01\r\u001b[K     |███████████████████▉            | 460 kB 7.8 MB/s eta 0:00:01\r\u001b[K     |████████████████████▎           | 471 kB 7.8 MB/s eta 0:00:01\r\u001b[K     |████████████████████▋           | 481 kB 7.8 MB/s eta 0:00:01\r\u001b[K     |█████████████████████           | 491 kB 7.8 MB/s eta 0:00:01\r\u001b[K     |█████████████████████▌          | 501 kB 7.8 MB/s eta 0:00:01\r\u001b[K     |██████████████████████          | 512 kB 7.8 MB/s eta 0:00:01\r\u001b[K     |██████████████████████▍         | 522 kB 7.8 MB/s eta 0:00:01\r\u001b[K     |██████████████████████▉         | 532 kB 7.8 MB/s eta 0:00:01\r\u001b[K     |███████████████████████▎        | 542 kB 7.8 MB/s eta 0:00:01\r\u001b[K     |███████████████████████▊        | 552 kB 7.8 MB/s eta 0:00:01\r\u001b[K     |████████████████████████▏       | 563 kB 7.8 MB/s eta 0:00:01\r\u001b[K     |████████████████████████▋       | 573 kB 7.8 MB/s eta 0:00:01\r\u001b[K     |█████████████████████████       | 583 kB 7.8 MB/s eta 0:00:01\r\u001b[K     |█████████████████████████▌      | 593 kB 7.8 MB/s eta 0:00:01\r\u001b[K     |██████████████████████████      | 604 kB 7.8 MB/s eta 0:00:01\r\u001b[K     |██████████████████████████▍     | 614 kB 7.8 MB/s eta 0:00:01\r\u001b[K     |██████████████████████████▉     | 624 kB 7.8 MB/s eta 0:00:01\r\u001b[K     |███████████████████████████▎    | 634 kB 7.8 MB/s eta 0:00:01\r\u001b[K     |███████████████████████████▊    | 645 kB 7.8 MB/s eta 0:00:01\r\u001b[K     |████████████████████████████▏   | 655 kB 7.8 MB/s eta 0:00:01\r\u001b[K     |████████████████████████████▋   | 665 kB 7.8 MB/s eta 0:00:01\r\u001b[K     |█████████████████████████████   | 675 kB 7.8 MB/s eta 0:00:01\r\u001b[K     |█████████████████████████████▌  | 686 kB 7.8 MB/s eta 0:00:01\r\u001b[K     |██████████████████████████████  | 696 kB 7.8 MB/s eta 0:00:01\r\u001b[K     |██████████████████████████████▍ | 706 kB 7.8 MB/s eta 0:00:01\r\u001b[K     |██████████████████████████████▊ | 716 kB 7.8 MB/s eta 0:00:01\r\u001b[K     |███████████████████████████████▏| 727 kB 7.8 MB/s eta 0:00:01\r\u001b[K     |███████████████████████████████▋| 737 kB 7.8 MB/s eta 0:00:01\r\u001b[K     |████████████████████████████████| 745 kB 7.8 MB/s \n",
            "\u001b[?25h  Building wheel for pyngrok (setup.py) ... \u001b[?25l\u001b[?25hdone\n"
          ]
        }
      ]
    },
    {
      "cell_type": "code",
      "execution_count": 13,
      "metadata": {
        "colab": {
          "base_uri": "https://localhost:8080/"
        },
        "id": "f01Pjbvjxg5L",
        "outputId": "3a3ccf9c-367a-4015-d627-c7bfa42a053f"
      },
      "outputs": [
        {
          "output_type": "stream",
          "name": "stdout",
          "text": [
            "  % Total    % Received % Xferd  Average Speed   Time    Time     Time  Current\n",
            "                                 Dload  Upload   Total   Spent    Left  Speed\n",
            "100 5838k  100 5838k    0     0   419k      0  0:00:13  0:00:13 --:--:--  460k\n",
            "replace data_v1/220927_CVa2/acq_20220927232404_cnt.bin? [y]es, [n]o, [A]ll, [N]one, [r]ename: A\n",
            "  % Total    % Received % Xferd  Average Speed   Time    Time     Time  Current\n",
            "                                 Dload  Upload   Total   Spent    Left  Speed\n",
            "100 13.5M  100 13.5M    0     0   446k      0  0:00:31  0:00:31 --:--:--  459k\n",
            "replace data_v2/PR_Card_2/220928_CVa1/acq_20220928223348_rng.bin? [y]es, [n]o, [A]ll, [N]one, [r]ename: A\n",
            "  % Total    % Received % Xferd  Average Speed   Time    Time     Time  Current\n",
            "                                 Dload  Upload   Total   Spent    Left  Speed\n",
            "100 7022k  100 7022k    0     0   423k      0  0:00:16  0:00:16 --:--:--  462k\n"
          ]
        }
      ],
      "source": [
        "# Download the zipped files from the shared internet link:\n",
        "!curl -L \"https://filesender.renater.fr/download.php?token=c4a56006-e8f9-4d78-9357-d4540b99e185&files_ids=17941252\" --output data_v1.zip\n",
        "!unzip -q data_v1.zip -d data_v1\n",
        "!curl -L \"https://filesender.renater.fr/download.php?token=76f39908-16e7-4b6b-b497-5849066c7641&files_ids=17983818\" --output data_v2.zip\n",
        "!unzip -q data_v2.zip -d data_v2\n",
        "!curl -L \"https://filesender.renater.fr/download.php?token=1edb5a92-296e-4833-b71d-86e17568aeba&files_ids=17988708\" --output data_v3.zip\n",
        "!unzip -q data_v3.zip -d data_v3"
      ]
    },
    {
      "cell_type": "code",
      "source": [
        "path = 'data_v2/PR_Card_7/220928_CVa4/log_20220928215356_rng.txt'\n",
        "with open(path) as f:\n",
        "  out = f.readlines()\n",
        "print(''.join(out))\n"
      ],
      "metadata": {
        "colab": {
          "base_uri": "https://localhost:8080/"
        },
        "id": "Zmu9IjcuQ5Er",
        "outputId": "af8c4a49-25c2-4f4d-a13f-edd395674cd5"
      },
      "execution_count": null,
      "outputs": [
        {
          "output_type": "stream",
          "name": "stdout",
          "text": [
            "Motherboard vers.: 9\n",
            "Motherboard sub vers.: 5\n",
            "\n",
            "HEX Status register        0950226D05A30B00\n",
            "\n",
            "    HEX D_board version: 09.50\n",
            "    HEX Allan variance:  226D\n",
            "    HEX Mean:            05A3\n",
            "    HEX eq_max:          0B\n",
            "    HEX eq_cur:          00\n",
            "\n",
            "Decimal values:\n",
            "    Mean:                90.1875\n",
            "    Allan variance:      2.151611328125\n",
            "    Eq_max:              11\n",
            "\n",
            "HEX Status2 register       017001170A304210\n",
            "\n",
            "    HEX KM: 0170\n",
            "    HEX KD: 0117\n",
            "    HEX RO freq: 0A30\n",
            "    HEX warnings: 2\n",
            "    HEX errors: 10\n",
            "\n",
            "    BIN warnings: 01000000\n",
            "    BIN environment warning: 0\n",
            "    BIN mean warning: 1\n",
            "\n",
            "    BIN error lock0: 0\n",
            "    BIN error lock1: 0\n",
            "    BIN error max: 0\n",
            "    BIN error overflw: 0\n",
            "    BIN error var: 1\n",
            "\n",
            "    RO frequency: 260.8 MHz\n",
            "    DEC KM: 368\n",
            "    DEC KD: 279\n",
            "    DEC Nb of outputs: 4\n",
            "\n"
          ]
        }
      ]
    },
    {
      "cell_type": "markdown",
      "metadata": {
        "id": "cmGHJOT5uoBb"
      },
      "source": [
        "# Analysis Module"
      ]
    },
    {
      "cell_type": "code",
      "source": [
        "import matplotlib.pyplot as plt\n",
        "import seaborn as sns\n",
        "import pandas as pd\n",
        "import numpy as np\n",
        "from statsmodels.graphics.tsaplots import plot_acf\n",
        "from statsmodels.tsa.stattools import acf\n",
        "from statsmodels.tsa.stattools import adfuller\n",
        "from statsmodels.tsa.stattools import kpss\n",
        "\n",
        "from IPython.display import display\n",
        "from pathlib import Path\n",
        "import logging\n",
        "\n",
        "\n",
        "plt.rcParams['figure.figsize'] = (10,3)\n",
        "logger = logging.getLogger('TRNG Analysis')\n",
        "logger.setLevel(logging.INFO)\n",
        "\n",
        "\n",
        "def get_bytes_data(fpath):\n",
        "  with open(fpath,'rb') as f:\n",
        "    bytes_data = f.read()\n",
        "  bytes_data = pd.DataFrame(list(bytes_data),columns=['byte value'])\n",
        "  bytes_data.index.name = 'time'\n",
        "  return bytes_data\n",
        "\n",
        "\n",
        "def last_bit(x):\n",
        "  return x % 2\n",
        "\n",
        "def last_bit_diff(x):\n",
        "  return x.diff().loc[1:] % 2\n",
        "\n",
        "\n",
        "def analyze_series(bytes_data, nlags=10, alpha=0.05, postprocess_fn=last_bit):\n",
        "  \"\"\" Analyze dependencies of TRNG bytes candidate.\n",
        "      Args:\n",
        "          bytes_data (pandas.Series): series of raw bytes (das), encoded as integers uint8\n",
        "          nlags (int): maximum number of lags to analyse\n",
        "          alpha (float): confidence level for hypothesis testing\n",
        "          postprocess_fn (function): transform applied to the series. For example, use <mod 2> to extract the last significant bit\n",
        "      Return:\n",
        "          figure: picture with plots\n",
        "  \"\"\"\n",
        "  mlflow.log_params(\n",
        "    {\n",
        "        'lags':nlags,\n",
        "        'alpha':alpha,\n",
        "        'postprocess_fn':postprocess_fn.__name__\n",
        "    }\n",
        "  )\n",
        "  bytes_data = postprocess_fn(bytes_data)\n",
        "  fig,axs = plt.subplots(1,2,constrained_layout=True)\n",
        "  # plot histogram\n",
        "  ax = axs[0]\n",
        "  sns.histplot(data=bytes_data,x='byte value',ax=ax,discrete=True)\n",
        "  # plot time series\n",
        "  ax = axs[1]\n",
        "  sns.lineplot(data=bytes_data.loc[:1000],x='time',y='byte value',ax=ax)\n",
        "  plt.show()\n",
        "  mlflow.log_figure(fig,'exploratory.png')\n",
        "  # stationarity tests\n",
        "  results = kpss(bytes_data,nlags=10)\n",
        "  pval = results[1]\n",
        "  mlflow.log_metric(f'stationary.KPSS.lag_{nlags}',pval)\n",
        "  results = adfuller(bytes_data,maxlag=10,store=True)\n",
        "  pval = results[1]\n",
        "  mlflow.log_metric(f'not-stationary.ADF.lag_{nlags}',pval)\n",
        "  # plot autocorelation\n",
        "  fig,ax = plt.subplots(1,1,constrained_layout=True)\n",
        "  fig = plot_acf(x=bytes_data, lags = nlags, fft=True, alpha=alpha, bartlett_confint=True, zero=False, adjusted=True, ax=ax, auto_ylims=True)\n",
        "  ax.set(xlabel='Lag',ylabel='Corr')\n",
        "  plt.show()\n",
        "  mlflow.log_figure(fig,'autocorrelation.png')\n",
        "  # find p-values for autocorrelation\n",
        "  _,_,_,pvals = acf(\n",
        "          x=bytes_data,\n",
        "          nlags=nlags,\n",
        "          alpha=alpha,\n",
        "          fft=True,\n",
        "          bartlett_confint=True,\n",
        "          adjusted=True,\n",
        "          qstat=True\n",
        "  )\n",
        "  pvals = {'lag':np.arange(1,nlags+1),'Ljung-Box Test p-val':pvals}\n",
        "  pvals = pd.DataFrame(data=pvals)\n",
        "  pvals.set_index('lag',inplace=True)\n",
        "  display(pvals)\n",
        "  mlflow.log_metric(f'not-correlated.LjungBox.lag_{nlags}',pvals.loc[nlags])"
      ],
      "metadata": {
        "id": "fPBWceaWD6oh"
      },
      "execution_count": 34,
      "outputs": []
    },
    {
      "cell_type": "markdown",
      "source": [
        "# Results\n",
        "\n",
        "Overall, I see strong negative correlation\t😞. For example:"
      ],
      "metadata": {
        "id": "5S9tajd8WDQ1"
      }
    },
    {
      "cell_type": "code",
      "source": [
        "import numpy as np\n",
        "import scipy\n",
        "from scipy import stats\n",
        "path = '/content/data_v1/220928_CVa1/acq_20220928102506_cnt.bin'\n",
        "x = np.fromfile(path,dtype='uint8')\n",
        "print(x.mean())\n",
        "corr,pval = scipy.stats.pearsonr(x[:-1],x[1:])\n",
        "print(f'Correlation={corr}, non-corr p-val={pval}')\n",
        " # small p-value means correlation! "
      ],
      "metadata": {
        "colab": {
          "base_uri": "https://localhost:8080/"
        },
        "id": "tOp1ktQSpGSg",
        "outputId": "079444ce-474d-4fcc-bd1b-5de7c9768120"
      },
      "execution_count": 6,
      "outputs": [
        {
          "output_type": "stream",
          "name": "stdout",
          "text": [
            "137.387392\n",
            "Correlation=-0.001584791808795311, non-corr p-val=0.1130140482280478\n"
          ]
        }
      ]
    },
    {
      "cell_type": "code",
      "source": [
        "y = x%2\n",
        "corr,pval = scipy.stats.pearsonr(y[:-1],y[1:])\n",
        "print(f'Correlation={corr}, non-corr p-val={pval}')"
      ],
      "metadata": {
        "colab": {
          "base_uri": "https://localhost:8080/"
        },
        "id": "k6XLJyGqJEiK",
        "outputId": "e22ab046-d572-4281-e232-a47397f7185d"
      },
      "execution_count": 9,
      "outputs": [
        {
          "output_type": "stream",
          "name": "stdout",
          "text": [
            "Correlation=-0.00302344405576716, non-corr p-val=0.002499138948651991\n"
          ]
        }
      ]
    },
    {
      "cell_type": "markdown",
      "source": [
        "## Logging"
      ],
      "metadata": {
        "id": "dzIBtoke9TgF"
      }
    },
    {
      "cell_type": "code",
      "source": [
        "import mlflow\n",
        "from pyngrok import ngrok\n",
        "from getpass import getpass\n",
        "\n",
        "# run mlflow server\n",
        "get_ipython().system_raw(\"mlflow ui --port 5000 &\")\n",
        "\n",
        "# Terminate open tunnels if exist\n",
        "ngrok.kill()\n",
        "\n",
        "# Setting the authtoken (optional)\n",
        "# Get your authtoken from https://dashboard.ngrok.com/auth\n",
        "NGROK_AUTH_TOKEN = getpass('Enter the ngrok authtoken: ')\n",
        "ngrok.set_auth_token(NGROK_AUTH_TOKEN)\n",
        "\n",
        "# Open an HTTPs tunnel on port 5000 for http://localhost:5000\n",
        "ngrok_tunnel = ngrok.connect(addr=\"5000\", proto=\"http\", bind_tls=True,\n",
        "                             auth=\"best_pll_trng:Hubert Curien\"\n",
        "                             )\n",
        "print(\"MLflow Tracking UI:\", ngrok_tunnel.public_url)"
      ],
      "metadata": {
        "colab": {
          "base_uri": "https://localhost:8080/"
        },
        "id": "LAqTR4gf9U_p",
        "outputId": "55e5df97-783b-4d7c-a5a0-a96b9725d32e"
      },
      "execution_count": 19,
      "outputs": [
        {
          "output_type": "stream",
          "name": "stdout",
          "text": [
            "Enter the ngrok authtoken: ··········\n",
            "MLflow Tracking UI: https://a427-34-125-212-74.ngrok.io\n"
          ]
        }
      ]
    },
    {
      "cell_type": "markdown",
      "source": [
        "## Experiments"
      ],
      "metadata": {
        "id": "St5ytlkSFGed"
      }
    },
    {
      "cell_type": "code",
      "source": [
        "for path in Path('').rglob(r'*cnt.bin'):\n",
        "  exp_name = path.parent\n",
        "  print(exp_name)\n",
        "  for fn in [last_bit,last_bit_diff]:\n",
        "    with mlflow.start_run(run_name=exp_name):\n",
        "      logger.info(f'Doing experiment {exp_name}')\n",
        "      bytes_data = get_bytes_data(path)\n",
        "      analyze_series(bytes_data,postprocess_fn=fn)"
      ],
      "metadata": {
        "colab": {
          "base_uri": "https://localhost:8080/",
          "height": 1000
        },
        "id": "VBQqCiASFH7S",
        "outputId": "fb289146-140a-4983-838a-03dd25bfb99b"
      },
      "execution_count": null,
      "outputs": [
        {
          "output_type": "stream",
          "name": "stderr",
          "text": [
            "INFO:TRNG Analysis:Doing experiment data_v1/220928_CVa1\n"
          ]
        },
        {
          "output_type": "stream",
          "name": "stdout",
          "text": [
            "data_v1/220928_CVa1\n"
          ]
        },
        {
          "output_type": "display_data",
          "data": {
            "text/plain": [
              "<Figure size 720x216 with 2 Axes>"
            ],
            "image/png": "[encoded data removed]"
          },
          "metadata": {
            "needs_background": "light"
          }
        },
        {
          "output_type": "stream",
          "name": "stderr",
          "text": [
            "/usr/local/lib/python3.7/dist-packages/statsmodels/tsa/stattools.py:2019: InterpolationWarning: The test statistic is outside of the range of p-values available in the\n",
            "look-up table. The actual p-value is smaller than the p-value returned.\n",
            "\n",
            "  warn_msg.format(direction=\"smaller\"), InterpolationWarning\n"
          ]
        },
        {
          "output_type": "display_data",
          "data": {
            "text/plain": [
              "<Figure size 720x216 with 1 Axes>"
            ],
            "image/png": "[encoded data removed]"
          },
          "metadata": {
            "needs_background": "light"
          }
        },
        {
          "output_type": "display_data",
          "data": {
            "text/plain": [
              "     Ljung-Box Test p-val\n",
              "lag                      \n",
              "1                0.002499\n",
              "2                0.005788\n",
              "3                0.001353\n",
              "4                0.003530\n",
              "5                0.003546\n",
              "6                0.006223\n",
              "7                0.003487\n",
              "8                0.006415\n",
              "9                0.010561\n",
              "10               0.000799"
            ],
            "text/html": [
              "\n",
              "  <div id=\"df-43bcb898-f7b5-4ebe-bfe9-8f95fdaefe87\">\n",
              "    <div class=\"colab-df-container\">\n",
              "      <div>\n",
              "<style scoped>\n",
              "    .dataframe tbody tr th:only-of-type {\n",
              "        vertical-align: middle;\n",
              "    }\n",
              "\n",
              "    .dataframe tbody tr th {\n",
              "        vertical-align: top;\n",
              "    }\n",
              "\n",
              "    .dataframe thead th {\n",
              "        text-align: right;\n",
              "    }\n",
              "</style>\n",
              "<table border=\"1\" class=\"dataframe\">\n",
              "  <thead>\n",
              "    <tr style=\"text-align: right;\">\n",
              "      <th></th>\n",
              "      <th>Ljung-Box Test p-val</th>\n",
              "    </tr>\n",
              "    <tr>\n",
              "      <th>lag</th>\n",
              "      <th></th>\n",
              "    </tr>\n",
              "  </thead>\n",
              "  <tbody>\n",
              "    <tr>\n",
              "      <th>1</th>\n",
              "      <td>0.002499</td>\n",
              "    </tr>\n",
              "    <tr>\n",
              "      <th>2</th>\n",
              "      <td>0.005788</td>\n",
              "    </tr>\n",
              "    <tr>\n",
              "      <th>3</th>\n",
              "      <td>0.001353</td>\n",
              "    </tr>\n",
              "    <tr>\n",
              "      <th>4</th>\n",
              "      <td>0.003530</td>\n",
              "    </tr>\n",
              "    <tr>\n",
              "      <th>5</th>\n",
              "      <td>0.003546</td>\n",
              "    </tr>\n",
              "    <tr>\n",
              "      <th>6</th>\n",
              "      <td>0.006223</td>\n",
              "    </tr>\n",
              "    <tr>\n",
              "      <th>7</th>\n",
              "      <td>0.003487</td>\n",
              "    </tr>\n",
              "    <tr>\n",
              "      <th>8</th>\n",
              "      <td>0.006415</td>\n",
              "    </tr>\n",
              "    <tr>\n",
              "      <th>9</th>\n",
              "      <td>0.010561</td>\n",
              "    </tr>\n",
              "    <tr>\n",
              "      <th>10</th>\n",
              "      <td>0.000799</td>\n",
              "    </tr>\n",
              "  </tbody>\n",
              "</table>\n",
              "</div>\n",
              "      <button class=\"colab-df-convert\" onclick=\"convertToInteractive('df-43bcb898-f7b5-4ebe-bfe9-8f95fdaefe87')\"\n",
              "              title=\"Convert this dataframe to an interactive table.\"\n",
              "              style=\"display:none;\">\n",
              "        \n",
              "  <svg xmlns=\"http://www.w3.org/2000/svg\" height=\"24px\"viewBox=\"0 0 24 24\"\n",
              "       width=\"24px\">\n",
              "    <path d=\"M0 0h24v24H0V0z\" fill=\"none\"/>\n",
              "    <path d=\"M18.56 5.44l.94 2.06.94-2.06 2.06-.94-2.06-.94-.94-2.06-.94 2.06-2.06.94zm-11 1L8.5 8.5l.94-2.06 2.06-.94-2.06-.94L8.5 2.5l-.94 2.06-2.06.94zm10 10l.94 2.06.94-2.06 2.06-.94-2.06-.94-.94-2.06-.94 2.06-2.06.94z\"/><path d=\"M17.41 7.96l-1.37-1.37c-.4-.4-.92-.59-1.43-.59-.52 0-1.04.2-1.43.59L10.3 9.45l-7.72 7.72c-.78.78-.78 2.05 0 2.83L4 21.41c.39.39.9.59 1.41.59.51 0 1.02-.2 1.41-.59l7.78-7.78 2.81-2.81c.8-.78.8-2.07 0-2.86zM5.41 20L4 18.59l7.72-7.72 1.47 1.35L5.41 20z\"/>\n",
              "  </svg>\n",
              "      </button>\n",
              "      \n",
              "  <style>\n",
              "    .colab-df-container {\n",
              "      display:flex;\n",
              "      flex-wrap:wrap;\n",
              "      gap: 12px;\n",
              "    }\n",
              "\n",
              "    .colab-df-convert {\n",
              "      background-color: #E8F0FE;\n",
              "      border: none;\n",
              "      border-radius: 50%;\n",
              "      cursor: pointer;\n",
              "      display: none;\n",
              "      fill: #1967D2;\n",
              "      height: 32px;\n",
              "      padding: 0 0 0 0;\n",
              "      width: 32px;\n",
              "    }\n",
              "\n",
              "    .colab-df-convert:hover {\n",
              "      background-color: #E2EBFA;\n",
              "      box-shadow: 0px 1px 2px rgba(60, 64, 67, 0.3), 0px 1px 3px 1px rgba(60, 64, 67, 0.15);\n",
              "      fill: #174EA6;\n",
              "    }\n",
              "\n",
              "    [theme=dark] .colab-df-convert {\n",
              "      background-color: #3B4455;\n",
              "      fill: #D2E3FC;\n",
              "    }\n",
              "\n",
              "    [theme=dark] .colab-df-convert:hover {\n",
              "      background-color: #434B5C;\n",
              "      box-shadow: 0px 1px 3px 1px rgba(0, 0, 0, 0.15);\n",
              "      filter: drop-shadow(0px 1px 2px rgba(0, 0, 0, 0.3));\n",
              "      fill: #FFFFFF;\n",
              "    }\n",
              "  </style>\n",
              "\n",
              "      <script>\n",
              "        const buttonEl =\n",
              "          document.querySelector('#df-43bcb898-f7b5-4ebe-bfe9-8f95fdaefe87 button.colab-df-convert');\n",
              "        buttonEl.style.display =\n",
              "          google.colab.kernel.accessAllowed ? 'block' : 'none';\n",
              "\n",
              "        async function convertToInteractive(key) {\n",
              "          const element = document.querySelector('#df-43bcb898-f7b5-4ebe-bfe9-8f95fdaefe87');\n",
              "          const dataTable =\n",
              "            await google.colab.kernel.invokeFunction('convertToInteractive',\n",
              "                                                     [key], {});\n",
              "          if (!dataTable) return;\n",
              "\n",
              "          const docLinkHtml = 'Like what you see? Visit the ' +\n",
              "            '<a target=\"_blank\" href=https://colab.research.google.com/notebooks/data_table.ipynb>data table notebook</a>'\n",
              "            + ' to learn more about interactive tables.';\n",
              "          element.innerHTML = '';\n",
              "          dataTable['output_type'] = 'display_data';\n",
              "          await google.colab.output.renderOutput(dataTable, element);\n",
              "          const docLink = document.createElement('div');\n",
              "          docLink.innerHTML = docLinkHtml;\n",
              "          element.appendChild(docLink);\n",
              "        }\n",
              "      </script>\n",
              "    </div>\n",
              "  </div>\n",
              "  "
            ]
          },
          "metadata": {}
        },
        {
          "output_type": "stream",
          "name": "stderr",
          "text": [
            "INFO:TRNG Analysis:Doing experiment data_v1/220928_CVa1\n"
          ]
        },
        {
          "output_type": "display_data",
          "data": {
            "text/plain": [
              "<Figure size 720x216 with 2 Axes>"
            ],
            "image/png": "[encoded data removed]"
          },
          "metadata": {
            "needs_background": "light"
          }
        },
        {
          "output_type": "stream",
          "name": "stderr",
          "text": [
            "/usr/local/lib/python3.7/dist-packages/statsmodels/tsa/stattools.py:2019: InterpolationWarning: The test statistic is outside of the range of p-values available in the\n",
            "look-up table. The actual p-value is smaller than the p-value returned.\n",
            "\n",
            "  warn_msg.format(direction=\"smaller\"), InterpolationWarning\n"
          ]
        },
        {
          "output_type": "display_data",
          "data": {
            "text/plain": [
              "<Figure size 720x216 with 1 Axes>"
            ],
            "image/png": "[encoded data removed]"
          },
          "metadata": {
            "needs_background": "light"
          }
        },
        {
          "output_type": "display_data",
          "data": {
            "text/plain": [
              "     Ljung-Box Test p-val\n",
              "lag                      \n",
              "1                     0.0\n",
              "2                     0.0\n",
              "3                     0.0\n",
              "4                     0.0\n",
              "5                     0.0\n",
              "6                     0.0\n",
              "7                     0.0\n",
              "8                     0.0\n",
              "9                     0.0\n",
              "10                    0.0"
            ],
            "text/html": [
              "\n",
              "  <div id=\"df-174718e2-2046-438a-af44-f80447993f98\">\n",
              "    <div class=\"colab-df-container\">\n",
              "      <div>\n",
              "<style scoped>\n",
              "    .dataframe tbody tr th:only-of-type {\n",
              "        vertical-align: middle;\n",
              "    }\n",
              "\n",
              "    .dataframe tbody tr th {\n",
              "        vertical-align: top;\n",
              "    }\n",
              "\n",
              "    .dataframe thead th {\n",
              "        text-align: right;\n",
              "    }\n",
              "</style>\n",
              "<table border=\"1\" class=\"dataframe\">\n",
              "  <thead>\n",
              "    <tr style=\"text-align: right;\">\n",
              "      <th></th>\n",
              "      <th>Ljung-Box Test p-val</th>\n",
              "    </tr>\n",
              "    <tr>\n",
              "      <th>lag</th>\n",
              "      <th></th>\n",
              "    </tr>\n",
              "  </thead>\n",
              "  <tbody>\n",
              "    <tr>\n",
              "      <th>1</th>\n",
              "      <td>0.0</td>\n",
              "    </tr>\n",
              "    <tr>\n",
              "      <th>2</th>\n",
              "      <td>0.0</td>\n",
              "    </tr>\n",
              "    <tr>\n",
              "      <th>3</th>\n",
              "      <td>0.0</td>\n",
              "    </tr>\n",
              "    <tr>\n",
              "      <th>4</th>\n",
              "      <td>0.0</td>\n",
              "    </tr>\n",
              "    <tr>\n",
              "      <th>5</th>\n",
              "      <td>0.0</td>\n",
              "    </tr>\n",
              "    <tr>\n",
              "      <th>6</th>\n",
              "      <td>0.0</td>\n",
              "    </tr>\n",
              "    <tr>\n",
              "      <th>7</th>\n",
              "      <td>0.0</td>\n",
              "    </tr>\n",
              "    <tr>\n",
              "      <th>8</th>\n",
              "      <td>0.0</td>\n",
              "    </tr>\n",
              "    <tr>\n",
              "      <th>9</th>\n",
              "      <td>0.0</td>\n",
              "    </tr>\n",
              "    <tr>\n",
              "      <th>10</th>\n",
              "      <td>0.0</td>\n",
              "    </tr>\n",
              "  </tbody>\n",
              "</table>\n",
              "</div>\n",
              "      <button class=\"colab-df-convert\" onclick=\"convertToInteractive('df-174718e2-2046-438a-af44-f80447993f98')\"\n",
              "              title=\"Convert this dataframe to an interactive table.\"\n",
              "              style=\"display:none;\">\n",
              "        \n",
              "  <svg xmlns=\"http://www.w3.org/2000/svg\" height=\"24px\"viewBox=\"0 0 24 24\"\n",
              "       width=\"24px\">\n",
              "    <path d=\"M0 0h24v24H0V0z\" fill=\"none\"/>\n",
              "    <path d=\"M18.56 5.44l.94 2.06.94-2.06 2.06-.94-2.06-.94-.94-2.06-.94 2.06-2.06.94zm-11 1L8.5 8.5l.94-2.06 2.06-.94-2.06-.94L8.5 2.5l-.94 2.06-2.06.94zm10 10l.94 2.06.94-2.06 2.06-.94-2.06-.94-.94-2.06-.94 2.06-2.06.94z\"/><path d=\"M17.41 7.96l-1.37-1.37c-.4-.4-.92-.59-1.43-.59-.52 0-1.04.2-1.43.59L10.3 9.45l-7.72 7.72c-.78.78-.78 2.05 0 2.83L4 21.41c.39.39.9.59 1.41.59.51 0 1.02-.2 1.41-.59l7.78-7.78 2.81-2.81c.8-.78.8-2.07 0-2.86zM5.41 20L4 18.59l7.72-7.72 1.47 1.35L5.41 20z\"/>\n",
              "  </svg>\n",
              "      </button>\n",
              "      \n",
              "  <style>\n",
              "    .colab-df-container {\n",
              "      display:flex;\n",
              "      flex-wrap:wrap;\n",
              "      gap: 12px;\n",
              "    }\n",
              "\n",
              "    .colab-df-convert {\n",
              "      background-color: #E8F0FE;\n",
              "      border: none;\n",
              "      border-radius: 50%;\n",
              "      cursor: pointer;\n",
              "      display: none;\n",
              "      fill: #1967D2;\n",
              "      height: 32px;\n",
              "      padding: 0 0 0 0;\n",
              "      width: 32px;\n",
              "    }\n",
              "\n",
              "    .colab-df-convert:hover {\n",
              "      background-color: #E2EBFA;\n",
              "      box-shadow: 0px 1px 2px rgba(60, 64, 67, 0.3), 0px 1px 3px 1px rgba(60, 64, 67, 0.15);\n",
              "      fill: #174EA6;\n",
              "    }\n",
              "\n",
              "    [theme=dark] .colab-df-convert {\n",
              "      background-color: #3B4455;\n",
              "      fill: #D2E3FC;\n",
              "    }\n",
              "\n",
              "    [theme=dark] .colab-df-convert:hover {\n",
              "      background-color: #434B5C;\n",
              "      box-shadow: 0px 1px 3px 1px rgba(0, 0, 0, 0.15);\n",
              "      filter: drop-shadow(0px 1px 2px rgba(0, 0, 0, 0.3));\n",
              "      fill: #FFFFFF;\n",
              "    }\n",
              "  </style>\n",
              "\n",
              "      <script>\n",
              "        const buttonEl =\n",
              "          document.querySelector('#df-174718e2-2046-438a-af44-f80447993f98 button.colab-df-convert');\n",
              "        buttonEl.style.display =\n",
              "          google.colab.kernel.accessAllowed ? 'block' : 'none';\n",
              "\n",
              "        async function convertToInteractive(key) {\n",
              "          const element = document.querySelector('#df-174718e2-2046-438a-af44-f80447993f98');\n",
              "          const dataTable =\n",
              "            await google.colab.kernel.invokeFunction('convertToInteractive',\n",
              "                                                     [key], {});\n",
              "          if (!dataTable) return;\n",
              "\n",
              "          const docLinkHtml = 'Like what you see? Visit the ' +\n",
              "            '<a target=\"_blank\" href=https://colab.research.google.com/notebooks/data_table.ipynb>data table notebook</a>'\n",
              "            + ' to learn more about interactive tables.';\n",
              "          element.innerHTML = '';\n",
              "          dataTable['output_type'] = 'display_data';\n",
              "          await google.colab.output.renderOutput(dataTable, element);\n",
              "          const docLink = document.createElement('div');\n",
              "          docLink.innerHTML = docLinkHtml;\n",
              "          element.appendChild(docLink);\n",
              "        }\n",
              "      </script>\n",
              "    </div>\n",
              "  </div>\n",
              "  "
            ]
          },
          "metadata": {}
        },
        {
          "output_type": "stream",
          "name": "stderr",
          "text": [
            "INFO:TRNG Analysis:Doing experiment data_v1/220928_CVa4\n"
          ]
        },
        {
          "output_type": "stream",
          "name": "stdout",
          "text": [
            "data_v1/220928_CVa4\n"
          ]
        },
        {
          "output_type": "display_data",
          "data": {
            "text/plain": [
              "<Figure size 720x216 with 2 Axes>"
            ],
            "image/png": "[encoded data removed]"
          },
          "metadata": {
            "needs_background": "light"
          }
        },
        {
          "output_type": "stream",
          "name": "stderr",
          "text": [
            "/usr/local/lib/python3.7/dist-packages/statsmodels/tsa/stattools.py:2023: InterpolationWarning: The test statistic is outside of the range of p-values available in the\n",
            "look-up table. The actual p-value is greater than the p-value returned.\n",
            "\n",
            "  warn_msg.format(direction=\"greater\"), InterpolationWarning\n"
          ]
        }
      ]
    },
    {
      "cell_type": "code",
      "source": [],
      "metadata": {
        "id": "ILfflgivqvLc"
      },
      "execution_count": null,
      "outputs": []
    }
  ],
  "metadata": {
    "colab": {
      "collapsed_sections": [],
      "provenance": [],
      "toc_visible": true,
      "authorship_tag": "ABX9TyO/h5VLOfYWDsNcy0Z5paHQ",
      "include_colab_link": true
    },
    "kernelspec": {
      "display_name": "Python 3",
      "name": "python3"
    },
    "language_info": {
      "name": "python"
    }
  },
  "nbformat": 4,
  "nbformat_minor": 0
}