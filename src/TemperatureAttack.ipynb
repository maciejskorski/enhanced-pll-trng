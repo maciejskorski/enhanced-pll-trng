{
 "cells": [
  {
   "cell_type": "code",
   "execution_count": 1,
   "metadata": {},
   "outputs": [
    {
     "data": {
      "text/plain": [
       "(517171,)"
      ]
     },
     "execution_count": 1,
     "metadata": {},
     "output_type": "execute_result"
    }
   ],
   "source": [
    "# -*- coding: utf-8 -*-\n",
    "\n",
    "# Universite Jean Monnet\n",
    "# Laboratoire Hubert Curien\n",
    "# Saint-Etienne\n",
    "\n",
    "# Nathalie Bochard\n",
    "\n",
    "# PLL-based TRNG - animated plot\n",
    "# successive reordered Tq periods\n",
    "#\n",
    "\n",
    "import numpy as np\n",
    "from matplotlib import pyplot as plt\n",
    "\n",
    "## #########################################\n",
    "## variables set\n",
    "## #########################################\n",
    "\n",
    "filename = \"../data/TemperatureAttack/S6_C_freezing attack_km476_kd495_dff.bin\"\n",
    "\n",
    "KM = 476\n",
    "KD = 495\n",
    "\n",
    "# nb of periods used to compute variance chunk\n",
    "N_BATCH = 4096\n",
    "\n",
    "## #########################################\n",
    "## functions definition\n",
    "## #########################################\n",
    "\n",
    "\n",
    "def read_dff(filename, KM, KD):\n",
    "    ###############################\n",
    "    \"\"\"Read dff bits from the raw file. Return a matrix of shape (n_cycles, KD)\"\"\"\n",
    "    bytes_data = np.fromfile(filename, dtype=\"uint8\")  # read bytes\n",
    "    bits_data = np.unpackbits(bytes_data, axis=None, count=None, bitorder=\"little\")  # unpack to bits\n",
    "    bits_data = bits_data.reshape((-1, 32))[:, ::-1].ravel()  # reverse bits order in blocks of 32\n",
    "    bits_data = np.resize(bits_data, (len(bits_data) // KD, KD))  # reshape to cycles\n",
    "    return bits_data\n",
    "\n",
    "\n",
    "## #########################################\n",
    "## main program\n",
    "## #########################################\n",
    "\n",
    "# VarMeanVect = []\n",
    "VarVect = []\n",
    "\n",
    "dff_data = read_dff(filename, KM, KD)\n",
    "counter_data = dff_data.sum(-1)\n",
    "counter_data.shape"
   ]
  },
  {
   "cell_type": "code",
   "execution_count": 2,
   "metadata": {},
   "outputs": [
    {
     "data": {
      "text/html": [
       "<div>\n",
       "<style scoped>\n",
       "    .dataframe tbody tr th:only-of-type {\n",
       "        vertical-align: middle;\n",
       "    }\n",
       "\n",
       "    .dataframe tbody tr th {\n",
       "        vertical-align: top;\n",
       "    }\n",
       "\n",
       "    .dataframe thead th {\n",
       "        text-align: right;\n",
       "    }\n",
       "</style>\n",
       "<table border=\"1\" class=\"dataframe\">\n",
       "  <thead>\n",
       "    <tr style=\"text-align: right;\">\n",
       "      <th></th>\n",
       "      <th>batch</th>\n",
       "      <th>counter</th>\n",
       "      <th>attack</th>\n",
       "    </tr>\n",
       "  </thead>\n",
       "  <tbody>\n",
       "    <tr>\n",
       "      <th>0</th>\n",
       "      <td>0</td>\n",
       "      <td>0.971560</td>\n",
       "      <td>False</td>\n",
       "    </tr>\n",
       "    <tr>\n",
       "      <th>1</th>\n",
       "      <td>1</td>\n",
       "      <td>0.936629</td>\n",
       "      <td>False</td>\n",
       "    </tr>\n",
       "    <tr>\n",
       "      <th>2</th>\n",
       "      <td>2</td>\n",
       "      <td>0.980572</td>\n",
       "      <td>False</td>\n",
       "    </tr>\n",
       "    <tr>\n",
       "      <th>3</th>\n",
       "      <td>3</td>\n",
       "      <td>0.939381</td>\n",
       "      <td>False</td>\n",
       "    </tr>\n",
       "    <tr>\n",
       "      <th>4</th>\n",
       "      <td>4</td>\n",
       "      <td>0.900778</td>\n",
       "      <td>False</td>\n",
       "    </tr>\n",
       "  </tbody>\n",
       "</table>\n",
       "</div>"
      ],
      "text/plain": [
       "   batch   counter  attack\n",
       "0      0  0.971560   False\n",
       "1      1  0.936629   False\n",
       "2      2  0.980572   False\n",
       "3      3  0.939381   False\n",
       "4      4  0.900778   False"
      ]
     },
     "execution_count": 2,
     "metadata": {},
     "output_type": "execute_result"
    }
   ],
   "source": [
    "import pandas as pd\n",
    "\n",
    "var_data = pd.DataFrame(data=counter_data).reset_index()\n",
    "var_data.columns = [\"timestep\", \"counter\"]\n",
    "var_data[\"batch\"] = var_data[\"timestep\"] // 4096\n",
    "var_data[\"index\"] = var_data[\"timestep\"] % 4096\n",
    "var_data = var_data.groupby(\"batch\").agg({\"counter\": \"var\"})\n",
    "var_data = var_data.reset_index()\n",
    "var_data[\"attack\"] = var_data[\"batch\"] > 80\n",
    "var_data.head()"
   ]
  },
  {
   "cell_type": "code",
   "execution_count": 3,
   "metadata": {},
   "outputs": [
    {
     "ename": "NameError",
     "evalue": "name 'N_BATCH' is not defined",
     "output_type": "error",
     "traceback": [
      "\u001b[0;31m---------------------------------------------------------------------------\u001b[0m",
      "\u001b[0;31mNameError\u001b[0m                                 Traceback (most recent call last)",
      "Cell \u001b[0;32mIn[3], line 36\u001b[0m\n\u001b[1;32m     31\u001b[0m     sns\u001b[39m.\u001b[39mscatterplot(data\u001b[39m=\u001b[39mdf, x\u001b[39m=\u001b[39m\u001b[39m\"\u001b[39m\u001b[39mbatch\u001b[39m\u001b[39m\"\u001b[39m, y\u001b[39m=\u001b[39m\u001b[39m\"\u001b[39m\u001b[39mVar\u001b[39m\u001b[39m\"\u001b[39m, marker\u001b[39m=\u001b[39m\u001b[39m\"\u001b[39m\u001b[39mP\u001b[39m\u001b[39m\"\u001b[39m, ax\u001b[39m=\u001b[39max)\n\u001b[1;32m     34\u001b[0m \u001b[39m# animate(5)\u001b[39;00m\n\u001b[1;32m     35\u001b[0m \u001b[39m# plt.show()\u001b[39;00m\n\u001b[0;32m---> 36\u001b[0m anim \u001b[39m=\u001b[39m animation\u001b[39m.\u001b[39mFuncAnimation(fig, animate, frames\u001b[39m=\u001b[39m\u001b[39mlen\u001b[39m(dff_data) \u001b[39m/\u001b[39m\u001b[39m/\u001b[39m N_BATCH)\n\u001b[1;32m     37\u001b[0m anim\u001b[39m.\u001b[39msave(\u001b[39m\"\u001b[39m\u001b[39mpll_trng_temperature_attack.gif\u001b[39m\u001b[39m\"\u001b[39m)\n\u001b[1;32m     38\u001b[0m anim\n",
      "\u001b[0;31mNameError\u001b[0m: name 'N_BATCH' is not defined"
     ]
    },
    {
     "data": {
      "image/png": "[encoded data removed]",
      "text/plain": [
       "<Figure size 1500x750 with 2 Axes>"
      ]
     },
     "metadata": {},
     "output_type": "display_data"
    }
   ],
   "source": [
    "import matplotlib.pyplot as plt\n",
    "import seaborn as sns\n",
    "import matplotlib.animation as animation\n",
    "\n",
    "plt.rcParams[\"animation.html\"] = \"jshtml\"\n",
    "plt.rcParams[\"figure.dpi\"] = 150\n",
    "plt.ioff()\n",
    "fig, axs = plt.subplots(1, 2, figsize=(10, 5), constrained_layout=True)\n",
    "\n",
    "variances = []\n",
    "\n",
    "\n",
    "def animate(t):\n",
    "    # plot reordered samples for batch t\n",
    "    global variances\n",
    "    ax = axs[1]\n",
    "    ax.cla()\n",
    "    img = dff_data[t * N_BATCH : (t + 1) * N_BATCH]\n",
    "    idx = np.arange(KD) * KM % KD\n",
    "    ps = img.mean(0)\n",
    "    df = pd.DataFrame(data=np.vstack([idx, ps]).T, columns=[\"$K_D$\", \"Pr\"])\n",
    "    sns.scatterplot(data=df, x=\"$K_D$\", y=\"Pr\", marker=\"P\", ax=ax)\n",
    "    # plot variance until batch t\n",
    "    ax = axs[0]\n",
    "    cnt_var = img.sum(1).var()\n",
    "    if t == 0:\n",
    "        variances = [cnt_var]\n",
    "    else:\n",
    "        variances.append(cnt_var)\n",
    "    df = pd.DataFrame(data=np.vstack([list(range(t + 1)), variances]).T, columns=[\"batch\", \"Var\"])\n",
    "    sns.scatterplot(data=df, x=\"batch\", y=\"Var\", marker=\"P\", ax=ax)\n",
    "\n",
    "\n",
    "# animate(5)\n",
    "# plt.show()\n",
    "anim = animation.FuncAnimation(fig, animate, frames=len(dff_data) // N_BATCH)\n",
    "anim.save(\"pll_trng_temperature_attack.gif\")\n",
    "anim"
   ]
  },
  {
   "cell_type": "code",
   "execution_count": null,
   "metadata": {},
   "outputs": [],
   "source": []
  }
 ],
 "metadata": {
  "kernelspec": {
   "display_name": ".venv",
   "language": "python",
   "name": "python3"
  },
  "language_info": {
   "codemirror_mode": {
    "name": "ipython",
    "version": 3
   },
   "file_extension": ".py",
   "mimetype": "text/x-python",
   "name": "python",
   "nbconvert_exporter": "python",
   "pygments_lexer": "ipython3",
   "version": "3.11.1"
  },
  "orig_nbformat": 4,
  "vscode": {
   "interpreter": {
    "hash": "7c41a376ffa545dfd4d7d65238dc7fe37d37b3a08798bf7fd1131939b8c4c15f"
   }
  }
 },
 "nbformat": 4,
 "nbformat_minor": 2
}
